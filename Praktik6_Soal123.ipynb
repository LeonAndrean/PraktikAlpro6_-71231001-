{
 "cells": [
  {
   "cell_type": "code",
   "execution_count": 45,
   "metadata": {},
   "outputs": [
    {
     "name": "stdout",
     "output_type": "stream",
     "text": [
      "Bilangan prima dari 21 adalah [19, 17, 13, 11, 7, 5, 3, 2]\n",
      "Bilangan prima terdekat dari 21 adalah 19\n"
     ]
    }
   ],
   "source": [
    "#SOAL 1\n",
    "#Buatlah program untuk mencari bilangan prima terdekat dari suatu bilangan yang diinputkan oleh pengguna (n)\n",
    "# dan nilai bilangan prima tersebut < n.\n",
    "# Contoh: input n=12, maka prima terdekat < 12 adalah 11\n",
    "# Contoh: input n=21, maka prima terdekat < 21 adalah 19\n",
    "\n",
    "n = int(input(\"Masukkan nilai n: \"))\n",
    "prima = []\n",
    "for i in range(n-1, 1, -1):\n",
    "    for j in range(2, i):\n",
    "        if i % j == 0:\n",
    "            break\n",
    "    else:\n",
    "        prima.append(i)\n",
    "print(\"Bilangan prima dari\", n, \"adalah\", prima)\n",
    "prima_terdekat = max(prima for prima in prima if prima < n)\n",
    "print(f\"Bilangan prima terdekat dari {n} adalah\", prima_terdekat)"
   ]
  },
  {
   "cell_type": "code",
   "execution_count": 47,
   "metadata": {},
   "outputs": [
    {
     "name": "stdout",
     "output_type": "stream",
     "text": [
      "720 6 5 4 3 2 1 \n",
      "120 5 4 3 2 1 \n",
      "24 4 3 2 1 \n",
      "6 3 2 1 \n",
      "2 2 1 \n",
      "1 1 \n"
     ]
    }
   ],
   "source": [
    "#SOAL 2\n",
    "#Buatlah program untuk menampilkan deret seperti di bawah ini. n diinputkan secara dinamis\n",
    "#contoh: n = 6\n",
    "#720 6 5 4 3 2 1\n",
    "#120 5 4 3 2 1\n",
    "#24 4 3 2 1\n",
    "#6 3 2 1\n",
    "#2 2 1\n",
    "#1 1\n",
    "n = int(input(\"Masukin nilai n nya: \"))\n",
    "def fact(nilai):\n",
    "    if nilai == 0:\n",
    "        return 1\n",
    "    else:\n",
    "        return nilai * fact(nilai - 1)\n",
    "for i in range(n, 0, -1):\n",
    "    faktorial = fact(i)\n",
    "    print(faktorial, end=\" \")\n",
    "    for j in range(i, 0, -1):\n",
    "        print(j, end=\" \")\n",
    "    print()"
   ]
  },
  {
   "cell_type": "code",
   "execution_count": 52,
   "metadata": {},
   "outputs": [
    {
     "name": "stdout",
     "output_type": "stream",
     "text": [
      "1\t2\t3\t4\t\n",
      "5\t6\t7\t8\t\n",
      "9\t10\t11\t12\t\n",
      "13\t14\t15\t16\t\n",
      "17\t18\t19\t20\t\n"
     ]
    }
   ],
   "source": [
    "#SOAL 3\n",
    "#Buatlah program untuk menampilkan deret seperti di bawah ini.\n",
    "# n diinputkan secara dinamis\n",
    "# contoh: tinggi = 5, lebar = 4\n",
    "# 1 2 3 4\n",
    "# 5 6 7 8\n",
    "# 9 10 11 12\n",
    "# 13 14 15 16\n",
    "# 17 18 19 20\n",
    "tinggi = int(input(\"Berapa Tinggimu?: \"))\n",
    "lebar = int(input(\"Berapa Lebarmu?: \"))\n",
    "x = 0\n",
    "for i in range(tinggi):\n",
    "    for j in range(lebar):\n",
    "        x += 1\n",
    "        print(f\"{x}\\t\", end=\"\")\n",
    "    print(\"\")"
   ]
  }
 ],
 "metadata": {
  "kernelspec": {
   "display_name": "Python 3",
   "language": "python",
   "name": "python3"
  },
  "language_info": {
   "codemirror_mode": {
    "name": "ipython",
    "version": 3
   },
   "file_extension": ".py",
   "mimetype": "text/x-python",
   "name": "python",
   "nbconvert_exporter": "python",
   "pygments_lexer": "ipython3",
   "version": "3.11.4"
  }
 },
 "nbformat": 4,
 "nbformat_minor": 2
}
